{
 "cells": [
  {
   "cell_type": "code",
   "execution_count": 1,
   "metadata": {},
   "outputs": [
    {
     "ename": "ModuleNotFoundError",
     "evalue": "No module named 'tensorflow'",
     "output_type": "error",
     "traceback": [
      "\u001b[0;31m---------------------------------------------------------------------------\u001b[0m",
      "\u001b[0;31mModuleNotFoundError\u001b[0m                       Traceback (most recent call last)",
      "\u001b[0;32m<ipython-input-1-cbec2b074df6>\u001b[0m in \u001b[0;36m<module>\u001b[0;34m\u001b[0m\n\u001b[0;32m----> 1\u001b[0;31m \u001b[0;32mimport\u001b[0m \u001b[0mtensorflow\u001b[0m \u001b[0;32mas\u001b[0m \u001b[0mtf\u001b[0m\u001b[0;34m\u001b[0m\u001b[0;34m\u001b[0m\u001b[0m\n\u001b[0m\u001b[1;32m      2\u001b[0m \u001b[0;32mimport\u001b[0m \u001b[0mcv2\u001b[0m \u001b[0;32mas\u001b[0m \u001b[0mcv\u001b[0m\u001b[0;34m\u001b[0m\u001b[0;34m\u001b[0m\u001b[0m\n\u001b[1;32m      3\u001b[0m \u001b[0;32mimport\u001b[0m \u001b[0mnumpy\u001b[0m \u001b[0;32mas\u001b[0m \u001b[0mnp\u001b[0m\u001b[0;34m\u001b[0m\u001b[0;34m\u001b[0m\u001b[0m\n\u001b[1;32m      4\u001b[0m \u001b[0;34m\u001b[0m\u001b[0m\n\u001b[1;32m      5\u001b[0m \u001b[0;32mdef\u001b[0m \u001b[0mtransform_input\u001b[0m\u001b[0;34m(\u001b[0m\u001b[0minput\u001b[0m\u001b[0;34m,\u001b[0m \u001b[0mdtype\u001b[0m\u001b[0;34m=\u001b[0m\u001b[0mnp\u001b[0m\u001b[0;34m.\u001b[0m\u001b[0mfloat32\u001b[0m\u001b[0;34m)\u001b[0m\u001b[0;34m:\u001b[0m\u001b[0;34m\u001b[0m\u001b[0;34m\u001b[0m\u001b[0m\n",
      "\u001b[0;31mModuleNotFoundError\u001b[0m: No module named 'tensorflow'"
     ]
    }
   ],
   "source": [
    "import tensorflow as tf\n",
    "import cv2 as cv\n",
    "import numpy as np\n",
    "\n",
    "def transform_input(input, dtype=np.float32):\n",
    "  trans_input = np.asarray( [cv.resize(img, (64,64)) for img in input], np.float64 )  \n",
    "  trans_input -= np.mean(trans_input, axis=(0,1,2))\n",
    "  trans_input /= np.std(trans_input, axis=(0,1,2))\n",
    "  trans_input = trans_input.transpose((0,3,1,2)).astype(dtype)\n",
    "  return trans_input\n",
    "\n",
    "\n",
    "\n",
    "\n",
    "def leerImagenes(vec_imagenes, path):\n",
    "  clases = np.array([img.split('/')[0] for img in vec_imagenes])\n",
    "  imagenes = np.array([img_to_array(load_img(path + \"/\" + img, \n",
    "                                             target_size = (225, 225))) \n",
    "                       for img in vec_imagenes])\n",
    "  return imagenes, clases\n",
    "\n",
    "\n",
    "def cargarDatos(path):\n",
    "  # Cargamos los ficheros\n",
    "  train_images = np.loadtxt(path + \"/train.txt\", dtype = str)\n",
    "  test_images = np.loadtxt(path + \"/test.txt\", dtype = str)\n",
    "  \n",
    "  # Leemos las imágenes con la función anterior\n",
    "  train, train_clases = leerImagenes(train_images, path)\n",
    "  test, test_clases = leerImagenes(test_images, path)\n",
    "  \n",
    "  # Pasamos los vectores de las clases a matrices \n",
    "  # Para ello, primero pasamos las clases a números enteros\n",
    "  clases_posibles = np.unique(np.copy(train_clases))\n",
    "  for i in range(len(clases_posibles)):\n",
    "    train_clases[train_clases == clases_posibles[i]] = i\n",
    "    test_clases[test_clases == clases_posibles[i]] = i\n",
    "\n",
    "  # Después, usamos la función to_categorical()\n",
    "  train_clases = np_utils.to_categorical(train_clases, 6)\n",
    "  test_clases = np_utils.to_categorical(test_clases, 6)\n",
    "  \n",
    "  # Barajar los datos\n",
    "  train_perm = np.random.permutation(len(train))\n",
    "  train = train[train_perm]\n",
    "  train_clases = train_clases[train_perm]\n",
    "\n",
    "  test_perm = np.random.permutation(len(test))\n",
    "  test = test[test_perm]\n",
    "  test_clases = test_clases[test_perm]\n",
    "  \n",
    "  return train, train_clases, test, test_clases\n",
    "\n",
    "\n",
    "\n",
    "\n",
    "\n"
   ]
  },
  {
   "cell_type": "code",
   "execution_count": null,
   "metadata": {},
   "outputs": [],
   "source": [
    "train_ds = tf.keras.preprocessing.image_dataset_from_directory(\n",
    "  './fruits_fresh_rotten',\n",
    "  validation_split=0.15,\n",
    "  subset=\"training\",\n",
    "  seed=123,\n",
    "  image_size=(225, 225),\n",
    "  batch_size=128)\n",
    "\n",
    "x_train, y_train, x_test, y_test = cargarDatos(\"imagenes\")\n",
    "\n",
    "x_train = transform_input(x_train)\n",
    "x_test = transform_input(x_test)"
   ]
  }
 ],
 "metadata": {
  "kernelspec": {
   "display_name": "Python 3",
   "language": "python",
   "name": "python3"
  },
  "language_info": {
   "codemirror_mode": {
    "name": "ipython",
    "version": 3
   },
   "file_extension": ".py",
   "mimetype": "text/x-python",
   "name": "python",
   "nbconvert_exporter": "python",
   "pygments_lexer": "ipython3",
   "version": "3.8.5"
  }
 },
 "nbformat": 4,
 "nbformat_minor": 4
}
